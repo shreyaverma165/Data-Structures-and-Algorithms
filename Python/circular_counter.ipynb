{
 "cells": [
  {
   "cell_type": "code",
   "execution_count": 3,
   "metadata": {},
   "outputs": [
    {
     "name": "stderr",
     "output_type": "stream",
     "text": [
      ".\n",
      "----------------------------------------------------------------------\n",
      "Ran 1 test in 0.003s\n",
      "\n",
      "OK\n"
     ]
    }
   ],
   "source": [
    "\"\"\"\n",
    "There are people sitting in a circular fashion,\n",
    "print every third member while removing them,\n",
    "the next counter starts immediately after the member is removed.\n",
    "Print till all the members are exhausted.\n",
    "\n",
    "For example:\n",
    "Input: consider 123456789 members sitting in a circular fashion,\n",
    "Output: 369485271\n",
    "\"\"\"\n",
    "\n",
    "import unittest\n",
    "\n",
    "def circular_counter(int_list, skip):\n",
    "    skip = skip - 1  \n",
    "    index = 0\n",
    "    len_list = (len(int_list))\n",
    "    while len_list > 0:\n",
    "        index = (skip+index) % len_list \n",
    "        yield int_list.pop(index)\n",
    "        len_list -= 1\n",
    "\n",
    "\n",
    "class TestCircularCounter(unittest.TestCase):\n",
    "    def test_circular_counter(self):\n",
    "        a = ['1', '2', '3', '4', '5', '6', '7', '8', '9', '0']\n",
    "        CircCounter_generator = circular_counter(a, 3)\n",
    "        self.assertEqual(next(CircCounter_generator), '3')\n",
    "        self.assertEqual(next(CircCounter_generator), '6')\n",
    "        self.assertEqual(next(CircCounter_generator), '9')\n",
    "        self.assertEqual(next(CircCounter_generator), '2')\n",
    "        self.assertEqual(next(CircCounter_generator), '7')\n",
    "        self.assertEqual(next(CircCounter_generator), '1')\n",
    "        self.assertEqual(next(CircCounter_generator), '8')\n",
    "        self.assertEqual(next(CircCounter_generator), '5')\n",
    "        self.assertEqual(next(CircCounter_generator), '0')\n",
    "        self.assertEqual(next(CircCounter_generator), '4')\n",
    "        self.assertRaises(StopIteration, next, CircCounter_generator)\n",
    "\n",
    "if __name__ == \"__main__\":\n",
    "    \n",
    "    unittest.main(argv=['first-arg-is-ignored'], exit=False)\n"
   ]
  },
  {
   "cell_type": "code",
   "execution_count": null,
   "metadata": {
    "collapsed": true
   },
   "outputs": [],
   "source": []
  }
 ],
 "metadata": {
  "kernelspec": {
   "display_name": "Python 3",
   "language": "python",
   "name": "python3"
  },
  "language_info": {
   "codemirror_mode": {
    "name": "ipython",
    "version": 3
   },
   "file_extension": ".py",
   "mimetype": "text/x-python",
   "name": "python",
   "nbconvert_exporter": "python",
   "pygments_lexer": "ipython3",
   "version": "3.6.3"
  }
 },
 "nbformat": 4,
 "nbformat_minor": 2
}
