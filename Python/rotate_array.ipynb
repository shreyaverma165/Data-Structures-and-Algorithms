{
 "cells": [
  {
   "cell_type": "code",
   "execution_count": 7,
   "metadata": {},
   "outputs": [
    {
     "name": "stderr",
     "output_type": "stream",
     "text": [
      ".\n",
      "----------------------------------------------------------------------\n",
      "Ran 1 test in 0.002s\n",
      "\n",
      "OK\n"
     ]
    }
   ],
   "source": [
    "\"\"\"\n",
    "Rotate an array of n elements to the right by k steps.\n",
    "\n",
    "For example, with n = 7 and k = 3,\n",
    "the array [1,2,3,4,5,6,7] is rotated to [5,6,7,1,2,3,4].\n",
    "\n",
    "Note:\n",
    "Try to come up as many solutions as you can,\n",
    "there are at least 3 different ways to solve this problem.\n",
    "\"\"\"\n",
    "import unittest\n",
    "\n",
    "\n",
    "def rotate_array(array, k):\n",
    "    \"\"\"\n",
    "    Rotate the entire array 'k' times\n",
    "    T(n)- O(nk)\n",
    "\n",
    "    :type array: List[int]\n",
    "    :type k: int\n",
    "    \"\"\"\n",
    "    array = array[:]\n",
    "    n = len(array)\n",
    "    for index in range(k):\n",
    "        temp = array[n - 1]\n",
    "        for j in range(n-1, 0, -1):\n",
    "            array[j] = array[j - 1]\n",
    "        array[0] = temp\n",
    "    return array\n",
    "\n",
    "\n",
    "class TestSuite(unittest.TestCase):\n",
    "\n",
    "    def test_rotate_v1(self):\n",
    "        self.assertListEqual(rotate_array([1, 2, 3, 4, 5, 6, 7], k=3), [5, 6, 7, 1, 2, 3, 4])\n",
    "        self.assertListEqual(rotate_array([1, 2, 3, 4, 5, 6, 7], k=1), [7, 1, 2, 3, 4, 5, 6])\n",
    "        self.assertListEqual(rotate_array([1, 2, 3, 4, 5, 6, 7], k=7), [1, 2, 3, 4, 5, 6, 7])\n",
    "        self.assertListEqual(rotate_array([1, 2, 3, 4], k=25), [4, 1, 2, 3])\n",
    "\n",
    "\n",
    "if __name__ == '__main__':\n",
    "\n",
    "    unittest.main(argv=['first-arg-is-ignored'], exit=False)\n"
   ]
  },
  {
   "cell_type": "code",
   "execution_count": null,
   "metadata": {
    "collapsed": true
   },
   "outputs": [],
   "source": []
  }
 ],
 "metadata": {
  "kernelspec": {
   "display_name": "Python 3",
   "language": "python",
   "name": "python3"
  },
  "language_info": {
   "codemirror_mode": {
    "name": "ipython",
    "version": 3
   },
   "file_extension": ".py",
   "mimetype": "text/x-python",
   "name": "python",
   "nbconvert_exporter": "python",
   "pygments_lexer": "ipython3",
   "version": "3.6.3"
  }
 },
 "nbformat": 4,
 "nbformat_minor": 2
}
