{
 "cells": [
  {
   "cell_type": "code",
   "execution_count": 7,
   "metadata": {},
   "outputs": [
    {
     "name": "stderr",
     "output_type": "stream",
     "text": [
      ".\n",
      "----------------------------------------------------------------------\n",
      "Ran 1 test in 0.002s\n",
      "\n",
      "OK\n"
     ]
    }
   ],
   "source": [
    "\"\"\"\n",
    "Given an array of integers, return indices of the two numbers\n",
    "such that they add up to a specific target.\n",
    "\n",
    "You may assume that each input would have exactly one solution,\n",
    "and you may not use the same element twice.\n",
    "\n",
    "Example:\n",
    "    Given nums = [2, 7, 11, 15], target = 9,\n",
    "\n",
    "    Because nums[0] + nums[1] = 2 + 7 = 9,\n",
    "    return (0, 1)\n",
    "\"\"\"\n",
    "\n",
    "import unittest\n",
    "def two_sum(array, target):\n",
    "    dictA = {}\n",
    "    for i, num in enumerate(array):\n",
    "        if num in dictA:\n",
    "            return dictA[num], i\n",
    "        else:\n",
    "            dictA[target - num] = i\n",
    "    return None\n",
    "\n",
    "class TestSuite(unittest.TestCase):\n",
    "\n",
    "    def test_two_sum(self):\n",
    "\n",
    "        self.assertTupleEqual((0, 2), two_sum([2, 11, 7, 9], target=9))\n",
    "        self.assertTupleEqual((0, 3), two_sum([-3, 5, 2, 3, 8, -9], target=0))\n",
    "\n",
    "        self.assertIsNone(two_sum([-3, 5, 2, 3, 8, -9], target=6))\n",
    "\n",
    "\n",
    "if __name__ == \"__main__\":\n",
    "\n",
    "    unittest.main(argv=['first-arg-is-ignored'], exit=False)\n"
   ]
  },
  {
   "cell_type": "code",
   "execution_count": null,
   "metadata": {
    "collapsed": true
   },
   "outputs": [],
   "source": []
  }
 ],
 "metadata": {
  "kernelspec": {
   "display_name": "Python 3",
   "language": "python",
   "name": "python3"
  },
  "language_info": {
   "codemirror_mode": {
    "name": "ipython",
    "version": 3
   },
   "file_extension": ".py",
   "mimetype": "text/x-python",
   "name": "python",
   "nbconvert_exporter": "python",
   "pygments_lexer": "ipython3",
   "version": "3.6.3"
  }
 },
 "nbformat": 4,
 "nbformat_minor": 2
}
