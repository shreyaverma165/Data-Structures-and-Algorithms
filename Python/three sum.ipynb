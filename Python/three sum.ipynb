{
 "cells": [
  {
   "cell_type": "code",
   "execution_count": 23,
   "metadata": {},
   "outputs": [
    {
     "name": "stderr",
     "output_type": "stream",
     "text": [
      ".\n",
      "----------------------------------------------------------------------\n",
      "Ran 1 test in 0.005s\n",
      "\n",
      "OK\n"
     ]
    }
   ],
   "source": [
    "\"\"\"\n",
    "Given an array S of n integers, are there elements a, b, c in S\n",
    "such that a + b + c = 0?\n",
    "Find all unique triplets in the array which gives the sum of zero.\n",
    "\n",
    "Note: The solution set must not contain duplicate triplets.\n",
    "\n",
    "For example, given array S = [-1, 0, 1, 2, -1, -4],\n",
    "\n",
    "A solution set is:\n",
    "{\n",
    "  (-1, 0, 1),\n",
    "  (-1, -1, 2)\n",
    "}\n",
    "\"\"\"\n",
    "import unittest\n",
    "\n",
    "\n",
    "def three_sum(array):\n",
    "    \"\"\"\n",
    "    :param array: List[int]\n",
    "    :return: Set[ Tuple[int, int, int] ]\n",
    "    \"\"\"\n",
    "    result = set()\n",
    "    array.sort()\n",
    "    for index in range(len(array) - 2):\n",
    "        if index > 0 and array[index] == array[index - 1]:\n",
    "            continue\n",
    "        left, right = index + 1, len(array) - 1\n",
    "        while left < right:\n",
    "            sum_val = array[index] + array[left] + array[right]\n",
    "            if sum_val > 0:\n",
    "                right -= 1\n",
    "            elif sum_val < 0:\n",
    "                left += 1\n",
    "            else:\n",
    "                result.add((array[index], array[left], array[right]))\n",
    "                \n",
    "                left += 1\n",
    "                right -= 1\n",
    "    return result\n",
    "\n",
    "\n",
    "class TestSuite(unittest.TestCase):\n",
    "\n",
    "    def test_three_sum(self):\n",
    "        self.assertSetEqual(three_sum([-1, 0, 1, 2, -1, -7]),{(-1, 0, 1), (-1, -1, 2)})\n",
    "        self.assertSetEqual(three_sum([-1, 3, 1, 2, -1, -4, -2, -7]),{(-4, 1, 3), (-2, -1, 3), (-1, -1, 2)})\n",
    "\n",
    "\n",
    "if __name__ == \"__main__\":\n",
    "\n",
    "    unittest.main(argv=['first-arg-is-ignored'], exit=False)\n"
   ]
  },
  {
   "cell_type": "code",
   "execution_count": null,
   "metadata": {
    "collapsed": true
   },
   "outputs": [],
   "source": []
  }
 ],
 "metadata": {
  "kernelspec": {
   "display_name": "Python 3",
   "language": "python",
   "name": "python3"
  },
  "language_info": {
   "codemirror_mode": {
    "name": "ipython",
    "version": 3
   },
   "file_extension": ".py",
   "mimetype": "text/x-python",
   "name": "python",
   "nbconvert_exporter": "python",
   "pygments_lexer": "ipython3",
   "version": "3.6.3"
  }
 },
 "nbformat": 4,
 "nbformat_minor": 2
}
